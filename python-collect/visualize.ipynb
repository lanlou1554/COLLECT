{
 "cells": [
  {
   "cell_type": "markdown",
   "metadata": {},
   "source": [
    "如果给定几个报告之间的距离矩阵，要如何将这些点的相似关系可视化？"
   ]
  },
  {
   "cell_type": "code",
   "execution_count": 107,
   "metadata": {},
   "outputs": [],
   "source": [
    "import random\n",
    "import numpy as np"
   ]
  },
  {
   "cell_type": "markdown",
   "metadata": {},
   "source": [
    "先随机生成一二维点"
   ]
  },
  {
   "cell_type": "code",
   "execution_count": 108,
   "metadata": {},
   "outputs": [
    {
     "name": "stdout",
     "output_type": "stream",
     "text": [
      "[[6541   54]\n",
      " [5348 4543]\n",
      " [8460 6412]\n",
      " [ 147 9464]\n",
      " [8048 9010]\n",
      " [4203 7301]\n",
      " [4932 5911]\n",
      " [7062 9163]\n",
      " [  23 9655]\n",
      " [1662 9446]\n",
      " [1990 5037]\n",
      " [2056 8000]\n",
      " [6915 9101]\n",
      " [9704 7767]\n",
      " [2051  497]\n",
      " [1496 9369]\n",
      " [8334 9756]\n",
      " [7718 1132]\n",
      " [5668 1829]\n",
      " [2038  164]]\n",
      "[[2929 5681]\n",
      " [4978  614]\n",
      " [  51 2320]\n",
      " [1081 6451]\n",
      " [8237 8199]\n",
      " [ 211 4645]\n",
      " [3266 8564]\n",
      " [3444 7481]\n",
      " [4765 9266]\n",
      " [9780  354]\n",
      " [6035 4828]\n",
      " [6576   50]\n",
      " [ 851 3498]\n",
      " [2163 2255]\n",
      " [1543 6377]\n",
      " [8904  173]\n",
      " [1610 7372]\n",
      " [9789 7959]\n",
      " [1543 3200]\n",
      " [5375 2754]]\n"
     ]
    }
   ],
   "source": [
    "array_size = (20, 2)\n",
    "array = np.random.randint(0, 10000, size=array_size)\n",
    "array2 = np.random.randint(0, 10000, size=array_size)\n",
    "print(array)\n",
    "print(array2)"
   ]
  },
  {
   "cell_type": "markdown",
   "metadata": {},
   "source": [
    "求出点与点之间的距离"
   ]
  },
  {
   "cell_type": "code",
   "execution_count": 109,
   "metadata": {},
   "outputs": [],
   "source": [
    "def distance(points):\n",
    "    size = len(points)\n",
    "    distance_matrix = np.zeros((size, size))\n",
    "    for i in range(0, size):\n",
    "        for j in range(0, size):\n",
    "            dis = (points[i] - points[j])\n",
    "            distance_matrix[i, j] = np.sqrt(np.inner(dis, dis))\n",
    "    return distance_matrix\n",
    "\n",
    "\n",
    "\n",
    "\n",
    "dist = distance(array)"
   ]
  },
  {
   "cell_type": "markdown",
   "metadata": {},
   "source": [
    "先写一个验证过程，用来验证这种可视化是否符合人的直观感受"
   ]
  },
  {
   "cell_type": "code",
   "execution_count": 110,
   "metadata": {},
   "outputs": [
    {
     "data": {
      "text/plain": [
       "0.45175"
      ]
     },
     "execution_count": 110,
     "metadata": {},
     "output_type": "execute_result"
    }
   ],
   "source": [
    "def to_order(array):\n",
    "    arr = []\n",
    "    for i in range(0, len(array)):\n",
    "        arr.append((array[i], i))\n",
    "    data_type = [('data', float), ('idx', int)]\n",
    "    arr = np.array(arr, dtype=data_type)\n",
    "    arr = np.sort(arr, order='data')\n",
    "    order = np.zeros((len(array),))\n",
    "    for i in range(0, len(arr)):\n",
    "        order[arr[i][1]] = i\n",
    "    return order\n",
    "\n",
    "def test(distance_matrix, visualized_points):\n",
    "    visualized_distance = distance(visualized_points)\n",
    "    diff_pairs = 0\n",
    "    for i in range(0, len(visualized_points)):\n",
    "        ori_order = to_order(distance_matrix[i])\n",
    "        curr_order = to_order(visualized_distance[i])\n",
    "        for j in range(0, len(ori_order)):\n",
    "            for k in range(0, len(ori_order)):\n",
    "                if distance_matrix[i, k] != distance_matrix[i, j] and (ori_order[j] > ori_order[k]) != (curr_order[j] > curr_order[k]):\n",
    "                    diff_pairs += 1\n",
    "    return diff_pairs / len(visualized_points)**3\n",
    "test(dist, array2)\n"
   ]
  },
  {
   "cell_type": "code",
   "execution_count": 111,
   "metadata": {},
   "outputs": [
    {
     "data": {
      "image/png": "[encoded data removed]",
      "text/plain": [
       "<Figure size 432x288 with 1 Axes>"
      ]
     },
     "metadata": {
      "needs_background": "light"
     },
     "output_type": "display_data"
    },
    {
     "data": {
      "image/png": "[encoded data removed]",
      "text/plain": [
       "<Figure size 432x288 with 1 Axes>"
      ]
     },
     "metadata": {
      "needs_background": "light"
     },
     "output_type": "display_data"
    },
    {
     "data": {
      "text/plain": [
       "0.04275"
      ]
     },
     "execution_count": 111,
     "metadata": {},
     "output_type": "execute_result"
    }
   ],
   "source": [
    "import math\n",
    "\n",
    "import pandas as pd\n",
    "import scipy.io\n",
    "\n",
    "from sklearn import manifold\n",
    "\n",
    "iso = manifold.LocallyLinearEmbedding(n_neighbors = 15, n_components = 2,\n",
    "                                method='standard')\n",
    "iso.fit(dist)\n",
    "manifold_2Da = iso.transform(dist)\n",
    "\n",
    "\n",
    "import matplotlib.pyplot as plt\n",
    "import numpy as np\n",
    "\n",
    "\n",
    "\n",
    "plt.scatter(manifold_2Da.T[0], manifold_2Da.T[1])\n",
    "plt.show()\n",
    "plt.scatter(array.T[0], array.T[1])\n",
    "plt.show()\n",
    "test(dist, manifold_2Da)"
   ]
  },
  {
   "cell_type": "code",
   "execution_count": 112,
   "metadata": {},
   "outputs": [
    {
     "name": "stdout",
     "output_type": "stream",
     "text": [
      "Warning: Desired error not necessarily achieved due to precision loss.\n",
      "         Current function value: 0.000006\n",
      "         Iterations: 44\n",
      "         Function evaluations: 5136\n",
      "         Gradient evaluations: 125\n"
     ]
    }
   ],
   "source": [
    "def distance_sq(points):\n",
    "    size = len(points) // 2\n",
    "    distance_matrix = np.zeros((size, size))\n",
    "    for i in range(0, size):\n",
    "        for j in range(0, size):\n",
    "            dis = np.array([points[i * 2] - points[j * 2], points[i * 2 + 1] - points[j * 2 + 1]])\n",
    "            distance_matrix[i, j] = np.inner(dis, dis)\n",
    "    return distance_matrix\n",
    "\n",
    "\n",
    "\n",
    "\n",
    "\n",
    "from scipy import optimize\n",
    "# 这里的f 可以自定义，这里为了更加直观的演示，使用的是较为简单的函数。\n",
    "dist = distance_sq(array.reshape((2*len(array),)))\n",
    "def f(x):\n",
    "    return np.sum((distance_sq(x) - dist)**2)\n",
    "def fprime(x):\n",
    "    x = x.reshape((len(target) // 2, 2))\n",
    "    \n",
    "#  梯度下降，这里我们要给出函数变量的初始值。\n",
    "target = optimize.fmin_cg(f, array2.reshape((2*len(array),)))"
   ]
  },
  {
   "cell_type": "code",
   "execution_count": 113,
   "metadata": {},
   "outputs": [
    {
     "data": {
      "image/png": "[encoded data removed]",
      "text/plain": [
       "<Figure size 432x288 with 1 Axes>"
      ]
     },
     "metadata": {
      "needs_background": "light"
     },
     "output_type": "display_data"
    },
    {
     "data": {
      "image/png": "[encoded data removed]",
      "text/plain": [
       "<Figure size 432x288 with 1 Axes>"
      ]
     },
     "metadata": {
      "needs_background": "light"
     },
     "output_type": "display_data"
    },
    {
     "data": {
      "text/plain": [
       "0.0"
      ]
     },
     "execution_count": 113,
     "metadata": {},
     "output_type": "execute_result"
    }
   ],
   "source": [
    "target = target.reshape((len(target) // 2, 2))\n",
    "test(distance(array), target)\n",
    "plt.scatter(target.T[0], target.T[1])\n",
    "plt.show()\n",
    "plt.scatter(array.T[0], array.T[1])\n",
    "plt.show()\n",
    "test(dist, target)"
   ]
  }
 ],
 "metadata": {
  "interpreter": {
   "hash": "aca9c90887fe9ee4a98334d8fc259bc63c1c22e9f4bc69edb900dce2b30ad2f6"
  },
  "kernelspec": {
   "display_name": "Python 3.8.0 64-bit",
   "language": "python",
   "name": "python3"
  },
  "language_info": {
   "codemirror_mode": {
    "name": "ipython",
    "version": 3
   },
   "file_extension": ".py",
   "mimetype": "text/x-python",
   "name": "python",
   "nbconvert_exporter": "python",
   "pygments_lexer": "ipython3",
   "version": "3.8.0"
  },
  "orig_nbformat": 4
 },
 "nbformat": 4,
 "nbformat_minor": 2
}
